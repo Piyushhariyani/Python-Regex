{
 "cells": [
  {
   "cell_type": "code",
   "execution_count": 35,
   "id": "d28839e8-8af4-4dac-85d0-cdd9ad8a84a1",
   "metadata": {},
   "outputs": [
    {
     "data": {
      "text/plain": [
       "array([[48010226.  ,         nan,    35000.  , ...,         nan,         nan,     9452.96],\n",
       "       [57693261.  ,         nan,    30000.  , ...,         nan,         nan,     4679.7 ],\n",
       "       [59432726.  ,         nan,    15000.  , ...,         nan,         nan,     1969.83],\n",
       "       ...,\n",
       "       [50415990.  ,         nan,    10000.  , ...,         nan,         nan,     2185.64],\n",
       "       [46154151.  ,         nan,         nan, ...,         nan,         nan,     3199.4 ],\n",
       "       [66055249.  ,         nan,    10000.  , ...,         nan,         nan,      301.9 ]])"
      ]
     },
     "execution_count": 35,
     "metadata": {},
     "output_type": "execute_result"
    }
   ],
   "source": [
    "import numpy as np\n",
    "\n",
    "raw_data_np=np.genfromtxt('Loan-data.csv',delimiter=';',encoding='latin1',skip_header=1)\n",
    "raw_data_np"
   ]
  },
  {
   "cell_type": "code",
   "execution_count": 37,
   "id": "2e46ec95-d1b3-4271-9979-6268d0087648",
   "metadata": {},
   "outputs": [
    {
     "data": {
      "text/plain": [
       "array([48010226.  ,         nan,    35000.  ,         nan,    35000.  ,         nan,       13.33,\n",
       "           1184.86,         nan,         nan,         nan,         nan,         nan,     9452.96])"
      ]
     },
     "execution_count": 37,
     "metadata": {},
     "output_type": "execute_result"
    }
   ],
   "source": [
    "raw_data_np[0]"
   ]
  },
  {
   "cell_type": "code",
   "execution_count": 39,
   "id": "4c7cd272-73d7-4102-9e07-971e0607652d",
   "metadata": {},
   "outputs": [],
   "source": [
    "np.set_printoptions(suppress=True,linewidth=100,precision=2)  # set the default parameters in numpy 'set_printoptions'"
   ]
  },
  {
   "cell_type": "code",
   "execution_count": 41,
   "id": "c19b9917-e23c-4d80-abea-770f52c0f546",
   "metadata": {},
   "outputs": [
    {
     "data": {
      "text/plain": [
       "88005"
      ]
     },
     "execution_count": 41,
     "metadata": {},
     "output_type": "execute_result"
    }
   ],
   "source": [
    "np.isnan(raw_data_np).sum()"
   ]
  },
  {
   "cell_type": "code",
   "execution_count": null,
   "id": "ebdd2a1a-3573-46c2-822a-76cfc4e14b3a",
   "metadata": {},
   "outputs": [],
   "source": [
    "min_value=np.nanmin(raw_data_np,axis=0)\n",
    "max_value=np.nanmax(raw_data_np,axis=0)"
   ]
  },
  {
   "cell_type": "code",
   "execution_count": 77,
   "id": "e7d9e5e7-365f-4b28-8f12-2bd5e0e20002",
   "metadata": {},
   "outputs": [
    {
     "name": "stdout",
     "output_type": "stream",
     "text": [
      "[68616519.           nan    35000.           nan    35000.           nan       28.99     1372.97\n",
      "         nan         nan         nan         nan         nan    41913.62]\n"
     ]
    }
   ],
   "source": [
    "print(max_value)"
   ]
  },
  {
   "cell_type": "code",
   "execution_count": null,
   "id": "8fd7a51e-96ad-45b8-aa16-548cb9a9f458",
   "metadata": {},
   "outputs": [],
   "source": [
    "temporary_mean=np.nanmean(raw_data_np,axis=0)"
   ]
  },
  {
   "cell_type": "code",
   "execution_count": 103,
   "id": "3b5cbab8-806d-43c4-8b4d-4943d0b87edf",
   "metadata": {},
   "outputs": [
    {
     "data": {
      "text/plain": [
       "array([54015809.19,         nan,    15273.46,         nan,    15311.04,         nan,       16.62,\n",
       "            440.92,         nan,         nan,         nan,         nan,         nan,     3143.85])"
      ]
     },
     "execution_count": 103,
     "metadata": {},
     "output_type": "execute_result"
    }
   ],
   "source": [
    "temporary_mean"
   ]
  },
  {
   "cell_type": "code",
   "execution_count": 105,
   "id": "153b00db-6036-4209-8218-fab8c569022f",
   "metadata": {},
   "outputs": [
    {
     "data": {
      "text/plain": [
       "array([373332.  ,       nan,   1000.  ,       nan,   1000.  ,       nan,      6.  ,     31.42,\n",
       "             nan,       nan,       nan,       nan,       nan,      0.  ])"
      ]
     },
     "execution_count": 105,
     "metadata": {},
     "output_type": "execute_result"
    }
   ],
   "source": [
    "min_value"
   ]
  },
  {
   "cell_type": "code",
   "execution_count": 107,
   "id": "2d3912ab-f616-4683-93fa-fe6287ccc2cc",
   "metadata": {},
   "outputs": [
    {
     "data": {
      "text/plain": [
       "array([False,  True, False,  True, False,  True, False, False,  True,  True,  True,  True,  True,\n",
       "       False])"
      ]
     },
     "execution_count": 107,
     "metadata": {},
     "output_type": "execute_result"
    }
   ],
   "source": [
    "np.isnan(temporary_mean)"
   ]
  },
  {
   "cell_type": "code",
   "execution_count": 125,
   "id": "7026f2d6-14b9-4111-8560-5febe1a96baa",
   "metadata": {},
   "outputs": [],
   "source": [
    "column_strings=np.argwhere(np.isnan(temporary_mean)).squeeze()  # squeeze fuction flattens the 2d array to 1d "
   ]
  },
  {
   "cell_type": "code",
   "execution_count": 123,
   "id": "3ad199ad-421e-4634-aacb-e561411d819b",
   "metadata": {},
   "outputs": [],
   "source": [
    "column_numeric=np.argwhere(np.isnan(temporary_mean)==False).squeeze()"
   ]
  },
  {
   "cell_type": "code",
   "execution_count": 137,
   "id": "6a5fbc2a-dab0-418f-973a-871624737dfd",
   "metadata": {},
   "outputs": [
    {
     "data": {
      "text/plain": [
       "array([['May-15', 'Current', '36 months', ..., 'Verified',\n",
       "        'https://www.lendingclub.com/browse/loanDetail.action?loan_id=48010226', 'CA'],\n",
       "       ['', 'Current', '36 months', ..., 'Source Verified',\n",
       "        'https://www.lendingclub.com/browse/loanDetail.action?loan_id=57693261', 'NY'],\n",
       "       ['Sep-15', 'Current', '36 months', ..., 'Verified',\n",
       "        'https://www.lendingclub.com/browse/loanDetail.action?loan_id=59432726', 'PA'],\n",
       "       ...,\n",
       "       ['Jun-15', 'Current', '36 months', ..., 'Source Verified',\n",
       "        'https://www.lendingclub.com/browse/loanDetail.action?loan_id=50415990', 'CA'],\n",
       "       ['Apr-15', 'Current', '36 months', ..., 'Source Verified',\n",
       "        'https://www.lendingclub.com/browse/loanDetail.action?loan_id=46154151', 'OH'],\n",
       "       ['Dec-15', 'Current', '36 months', ..., '',\n",
       "        'https://www.lendingclub.com/browse/loanDetail.action?loan_id=66055249', 'IL']],\n",
       "      dtype='<U69')"
      ]
     },
     "execution_count": 137,
     "metadata": {},
     "output_type": "execute_result"
    }
   ],
   "source": [
    "load_data_strings=np.genfromtxt('Loan-data.csv',delimiter=';',encoding='latin1',skip_header=1,autostrip=True,usecols=column_strings,dtype=str)\n",
    "load_data_strings"
   ]
  },
  {
   "cell_type": "code",
   "execution_count": 139,
   "id": "d3fc8bb6-66e5-41ce-b410-83b7719be744",
   "metadata": {},
   "outputs": [
    {
     "data": {
      "text/plain": [
       "array([['48010226', '35000.0', '35000.0', '13.33', '1184.86', '9452.96'],\n",
       "       ['57693261', '30000.0', '30000.0', 'þëè.89', '938.57', '4679.7'],\n",
       "       ['59432726', '15000.0', '15000.0', 'íîå.53', '494.86', '1969.83'],\n",
       "       ...,\n",
       "       ['50415990', '10000.0', '10000.0', 'þëè.89', '', '2185.64'],\n",
       "       ['46154151', '', '10000.0', '16.55', '354.3', '3199.4'],\n",
       "       ['66055249', '10000.0', '10000.0', 'þëè.26', '309.97', '301.9']], dtype='<U11')"
      ]
     },
     "execution_count": 139,
     "metadata": {},
     "output_type": "execute_result"
    }
   ],
   "source": [
    "load_data_numeric=np.genfromtxt('Loan-data.csv',delimiter=';',encoding='latin1',skip_header=1,autostrip=True,usecols=column_numeric,dtype=str)\n",
    "load_data_numeric"
   ]
  },
  {
   "cell_type": "code",
   "execution_count": 159,
   "id": "b1731f0d-7c44-43ee-9c20-c880842cfa35",
   "metadata": {},
   "outputs": [],
   "source": [
    "header_full=np.genfromtxt('Loan-data.csv',delimiter=';',encoding='latin1',autostrip=True,skip_footer=raw_data_np.shape[0],dtype=str)"
   ]
  },
  {
   "cell_type": "code",
   "execution_count": 161,
   "id": "764f4609-72f5-45d3-a085-2961b3517b0d",
   "metadata": {},
   "outputs": [
    {
     "data": {
      "text/plain": [
       "array(['issue_d', 'loan_status', 'term', 'grade', 'sub_grade', 'verification_status', 'url',\n",
       "       'addr_state'], dtype='<U19')"
      ]
     },
     "execution_count": 161,
     "metadata": {},
     "output_type": "execute_result"
    }
   ],
   "source": [
    "header_full[column_strings] # filters the strings headers "
   ]
  },
  {
   "cell_type": "code",
   "execution_count": 163,
   "id": "0630a98e-b100-4877-b4c8-0b5f7edb4d93",
   "metadata": {},
   "outputs": [
    {
     "data": {
      "text/plain": [
       "array(['id', 'loan_amnt', 'funded_amnt', 'int_rate', 'installment', 'total_pymnt'], dtype='<U19')"
      ]
     },
     "execution_count": 163,
     "metadata": {},
     "output_type": "execute_result"
    }
   ],
   "source": [
    "header_full[column_numeric] # filters the numeric headers "
   ]
  },
  {
   "cell_type": "code",
   "execution_count": 171,
   "id": "f6485af6-c59d-4dd7-9ff6-1cb2cfea3345",
   "metadata": {},
   "outputs": [
    {
     "data": {
      "text/plain": [
       "array(['May-15', '', 'Sep-15', ..., 'Jun-15', 'Apr-15', 'Dec-15'], dtype='<U69')"
      ]
     },
     "execution_count": 171,
     "metadata": {},
     "output_type": "execute_result"
    }
   ],
   "source": [
    "load_data_strings[:,0]"
   ]
  },
  {
   "cell_type": "code",
   "execution_count": 173,
   "id": "02d576b5-6204-4187-8238-398bf4e708e9",
   "metadata": {},
   "outputs": [
    {
     "data": {
      "text/plain": [
       "array(['', 'Apr-15', 'Aug-15', 'Dec-15', 'Feb-15', 'Jan-15', 'Jul-15', 'Jun-15', 'Mar-15',\n",
       "       'May-15', 'Nov-15', 'Oct-15', 'Sep-15'], dtype='<U69')"
      ]
     },
     "execution_count": 173,
     "metadata": {},
     "output_type": "execute_result"
    }
   ],
   "source": [
    "np.unique(load_data_strings[:,0])"
   ]
  },
  {
   "cell_type": "code",
   "execution_count": null,
   "id": "0e2757e3-9eda-47b5-8415-bb6fb9dbf8e8",
   "metadata": {},
   "outputs": [],
   "source": []
  }
 ],
 "metadata": {
  "kernelspec": {
   "display_name": "Python 3 (ipykernel)",
   "language": "python",
   "name": "python3"
  },
  "language_info": {
   "codemirror_mode": {
    "name": "ipython",
    "version": 3
   },
   "file_extension": ".py",
   "mimetype": "text/x-python",
   "name": "python",
   "nbconvert_exporter": "python",
   "pygments_lexer": "ipython3",
   "version": "3.12.4"
  }
 },
 "nbformat": 4,
 "nbformat_minor": 5
}
