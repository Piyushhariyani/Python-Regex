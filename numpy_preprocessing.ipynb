{
 "cells": [
  {
   "cell_type": "markdown",
   "id": "ad17f5bc-678e-4f08-b222-67227f7fa426",
   "metadata": {},
   "source": [
    "# Numpy preprocessing"
   ]
  },
  {
   "cell_type": "code",
   "execution_count": 9,
   "id": "6775c1db-ce0c-4841-b2bd-b18d11b691b1",
   "metadata": {},
   "outputs": [
    {
     "data": {
      "text/plain": [
       "array([[ 2000.,    40.,   365.,  3121.,  4241., 13621.],\n",
       "       [ 2000.,    40.,   365.,  3061.,  4171., 15041.],\n",
       "       [ 1000.,    40.,   365.,  2160.,  3280., 15340.],\n",
       "       ...,\n",
       "       [ 2000.,    40.,   365.,  4201.,  5001., 16600.],\n",
       "       [ 1000.,    40.,   365.,  2080.,  3320., 15600.],\n",
       "       [ 2000.,    40.,   365.,  4601.,  4601., 16600.]])"
      ]
     },
     "execution_count": 9,
     "metadata": {},
     "output_type": "execute_result"
    }
   ],
   "source": [
    "import numpy as np\n",
    "lending_array=np.loadtxt(\"Lending-company-Numeric.csv\",delimiter=',') # this loadtext function cant load files which has null values inside it\n",
    "#, for that 'genfromtxt' function is used\n",
    "lending_array"
   ]
  },
  {
   "cell_type": "code",
   "execution_count": 11,
   "id": "4264d400-9d5b-4152-bad4-9b4fdccc3b93",
   "metadata": {},
   "outputs": [
    {
     "data": {
      "text/plain": [
       "0"
      ]
     },
     "execution_count": 11,
     "metadata": {},
     "output_type": "execute_result"
    }
   ],
   "source": [
    "# to check null value anywhere in a particular array \n",
    "np.isnan(lending_array).sum()"
   ]
  },
  {
   "cell_type": "code",
   "execution_count": null,
   "id": "311f12d6-c460-4a07-8976-567ae4eecc80",
   "metadata": {},
   "outputs": [],
   "source": [
    "lending_array=np.loadtxt(\"Lending-company-Numeric-NAN.csv\",delimiter=\",\")"
   ]
  },
  {
   "cell_type": "code",
   "execution_count": 23,
   "id": "435a3ea9-03c7-42f0-9325-42afbb9fa4f8",
   "metadata": {},
   "outputs": [],
   "source": [
    "lending_array_nan=np.genfromtxt(\"Lending-company-Numeric-NAN.csv\",delimiter=\";\")"
   ]
  },
  {
   "cell_type": "code",
   "execution_count": 25,
   "id": "d47fc28c-0c2c-4c41-b583-0fe785b129be",
   "metadata": {},
   "outputs": [
    {
     "data": {
      "text/plain": [
       "260"
      ]
     },
     "execution_count": 25,
     "metadata": {},
     "output_type": "execute_result"
    }
   ],
   "source": [
    "np.isnan(lending_array_nan).sum()  # checking null"
   ]
  },
  {
   "cell_type": "code",
   "execution_count": 33,
   "id": "d5ff8a64-0ce7-40f6-aca0-ff2cef5fe1c0",
   "metadata": {},
   "outputs": [
    {
     "data": {
      "text/plain": [
       "0"
      ]
     },
     "execution_count": 33,
     "metadata": {},
     "output_type": "execute_result"
    }
   ],
   "source": [
    "lending_array_nan=np.genfromtxt(\"Lending-company-Numeric-NAN.csv\",delimiter=\";\",filling_values=0)\n",
    "np.isnan(lending_array_nan).sum()"
   ]
  },
  {
   "cell_type": "code",
   "execution_count": 35,
   "id": "52ed6054-f6a1-4852-b97a-513d451b88ec",
   "metadata": {},
   "outputs": [
    {
     "data": {
      "text/plain": [
       "64001.0"
      ]
     },
     "execution_count": 35,
     "metadata": {},
     "output_type": "execute_result"
    }
   ],
   "source": [
    "np.max(lending_array_nan) # if we did not have remove the null value then the max value will be nan only, so null values must be remove first "
   ]
  },
  {
   "cell_type": "code",
   "execution_count": 39,
   "id": "1d895de1-9260-4025-a6c1-034d568d5cf4",
   "metadata": {},
   "outputs": [
    {
     "data": {
      "text/plain": [
       "64005.0"
      ]
     },
     "execution_count": 39,
     "metadata": {},
     "output_type": "execute_result"
    }
   ],
   "source": [
    "tempfillvalues=np.nanmax(lending_array_nan)+4   # 4 more than max\n",
    "# fill values 64005\n",
    "tempfillvalues"
   ]
  },
  {
   "cell_type": "code",
   "execution_count": 41,
   "id": "5c67f79b-fc28-49c5-8843-5c87e26cb98e",
   "metadata": {},
   "outputs": [
    {
     "data": {
      "text/plain": [
       "array([[2.0000e+03, 4.0000e+01, 3.6500e+02, 3.1210e+03, 4.2410e+03,\n",
       "        1.3621e+04],\n",
       "       [2.0000e+03, 4.0000e+01, 3.6500e+02, 3.0610e+03, 4.1710e+03,\n",
       "        1.5041e+04],\n",
       "       [1.0000e+03, 4.0000e+01, 3.6500e+02, 2.1600e+03, 3.2800e+03,\n",
       "        1.5340e+04],\n",
       "       ...,\n",
       "       [6.4005e+04, 4.0000e+01, 3.6500e+02, 4.2010e+03, 5.0010e+03,\n",
       "        1.6600e+04],\n",
       "       [1.0000e+03, 4.0000e+01, 3.6500e+02, 2.0800e+03, 3.3200e+03,\n",
       "        1.5600e+04],\n",
       "       [2.0000e+03, 4.0000e+01, 3.6500e+02, 4.6010e+03, 4.6010e+03,\n",
       "        1.6600e+04]])"
      ]
     },
     "execution_count": 41,
     "metadata": {},
     "output_type": "execute_result"
    }
   ],
   "source": [
    "lending_array_nan=np.genfromtxt(\"Lending-company-Numeric-NAN.csv\",delimiter=\";\",filling_values=tempfillvalues)\n",
    "lending_array_nan"
   ]
  },
  {
   "cell_type": "code",
   "execution_count": 43,
   "id": "5d0032e0-0499-460b-812f-c5f40e85f9b0",
   "metadata": {},
   "outputs": [
    {
     "data": {
      "text/plain": [
       "array([ 4263.34611697,  2989.56375839,  3537.84755513,  7469.10738255,\n",
       "        7304.64525407, 17753.86481304])"
      ]
     },
     "execution_count": 43,
     "metadata": {},
     "output_type": "execute_result"
    }
   ],
   "source": [
    "np.nanmean(lending_array_nan,axis=0)"
   ]
  },
  {
   "cell_type": "code",
   "execution_count": 45,
   "id": "118b51b1-9faa-4ead-a106-02e56d3ae58a",
   "metadata": {},
   "outputs": [
    {
     "data": {
      "text/plain": [
       "array([ 4263.35,  2989.56,  3537.85,  7469.11,  7304.65, 17753.86])"
      ]
     },
     "execution_count": 45,
     "metadata": {},
     "output_type": "execute_result"
    }
   ],
   "source": [
    "np.nanmean(lending_array_nan,axis=0).round(2)"
   ]
  },
  {
   "cell_type": "code",
   "execution_count": 51,
   "id": "4a7c208a-5566-4e99-84d7-efd2475adb16",
   "metadata": {},
   "outputs": [
    {
     "data": {
      "text/plain": [
       "array([ 2250.25,    46.11,   365.  ,  3895.99,  5160.75, 16571.44])"
      ]
     },
     "execution_count": 51,
     "metadata": {},
     "output_type": "execute_result"
    }
   ],
   "source": [
    "lending_array_nan=np.genfromtxt(\"Lending-company-Numeric-NAN.csv\",delimiter=\";\")\n",
    "temp_mean=np.nanmean(lending_array_nan,axis=0).round(2)\n",
    "temp_mean"
   ]
  },
  {
   "cell_type": "code",
   "execution_count": 53,
   "id": "e285c06e-2800-4c8c-b164-60213f2eb219",
   "metadata": {},
   "outputs": [
    {
     "name": "stdout",
     "output_type": "stream",
     "text": [
      "2250.25\n"
     ]
    }
   ],
   "source": [
    "print(temp_mean[0])"
   ]
  },
  {
   "cell_type": "code",
   "execution_count": 57,
   "id": "f35eaa39-b5e3-43d9-a463-f6d4eee82e4c",
   "metadata": {},
   "outputs": [
    {
     "data": {
      "text/plain": [
       "array([[ 2000.  ,    40.  ,   365.  ,  3121.  ,  4241.  , 13621.  ],\n",
       "       [ 2000.  ,    40.  ,   365.  ,  3061.  ,  4171.  , 15041.  ],\n",
       "       [ 1000.  ,    40.  ,   365.  ,  2160.  ,  3280.  , 15340.  ],\n",
       "       ...,\n",
       "       [ 2250.25,    40.  ,   365.  ,  4201.  ,  5001.  , 16600.  ],\n",
       "       [ 1000.  ,    40.  ,   365.  ,  2080.  ,  3320.  , 15600.  ],\n",
       "       [ 2000.  ,    40.  ,   365.  ,  4601.  ,  4601.  , 16600.  ]])"
      ]
     },
     "execution_count": 57,
     "metadata": {},
     "output_type": "execute_result"
    }
   ],
   "source": [
    "lending_array_nan=np.genfromtxt('Lending-company-Numeric-NAN.csv',delimiter=';',filling_values=temp_mean[0])\n",
    "lending_array_nan"
   ]
  },
  {
   "cell_type": "code",
   "execution_count": 61,
   "id": "db22c914-2407-40e7-97da-2c8d75bb96f6",
   "metadata": {},
   "outputs": [
    {
     "name": "stdout",
     "output_type": "stream",
     "text": [
      "[[ 2000.      40.     365.    3121.    4241.   13621.  ]\n",
      " [ 2000.      40.     365.    3061.    4171.   15041.  ]\n",
      " [ 1000.      40.     365.    2160.    3280.   15340.  ]\n",
      " ...\n",
      " [ 2250.25    40.     365.    4201.    5001.   16600.  ]\n",
      " [ 1000.      40.     365.    2080.    3320.   15600.  ]\n",
      " [ 2000.      40.     365.    4601.    4601.   16600.  ]]\n"
     ]
    }
   ],
   "source": [
    "import numpy as np\n",
    "\n",
    "\n",
    "# Load the data with NANs preserved\n",
    "lending_array_nan=np.genfromtxt('Lending-company-Numeric-NAN.csv',delimiter=';')\n",
    "\n",
    "# step 1: Compute the column-wise means (ignoring NANs)\n",
    "col_means=np.nanmean(lending_array_nan,axis=0)\n",
    "\n",
    "#step 2: Find where NANs are located\n",
    "nan_indices=np.where(np.isnan(lending_array_nan))\n",
    "\n",
    "#step 3: Replace NANs with the correspondig column mean\n",
    "lending_array_nan[nan_indices]=np.take(col_means,nan_indices[1])\n",
    "\n",
    "#step 4: (Optional) Round for cleaner results\n",
    "lending_array_nan=np.round(lending_array_nan,2)\n",
    "\n",
    "# Final array with all NANs filled using their respective column means\n",
    "print(lending_array_nan)"
   ]
  },
  {
   "cell_type": "code",
   "execution_count": null,
   "id": "01064b17-2f75-478c-ae44-3dc849c58879",
   "metadata": {},
   "outputs": [],
   "source": []
  }
 ],
 "metadata": {
  "kernelspec": {
   "display_name": "Python 3 (ipykernel)",
   "language": "python",
   "name": "python3"
  },
  "language_info": {
   "codemirror_mode": {
    "name": "ipython",
    "version": 3
   },
   "file_extension": ".py",
   "mimetype": "text/x-python",
   "name": "python",
   "nbconvert_exporter": "python",
   "pygments_lexer": "ipython3",
   "version": "3.12.4"
  }
 },
 "nbformat": 4,
 "nbformat_minor": 5
}
